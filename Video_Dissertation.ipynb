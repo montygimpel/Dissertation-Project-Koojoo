{
 "cells": [
  {
   "cell_type": "code",
   "execution_count": 1,
   "metadata": {},
   "outputs": [
    {
     "data": {
      "text/plain": [
       "'/Users/montgomerygimpel'"
      ]
     },
     "execution_count": 1,
     "metadata": {},
     "output_type": "execute_result"
    }
   ],
   "source": [
    "%pwd"
   ]
  },
  {
   "cell_type": "code",
   "execution_count": 2,
   "metadata": {},
   "outputs": [
    {
     "name": "stdout",
     "output_type": "stream",
     "text": [
      "/Users/montgomerygimpel/Desktop/Dissertation/GridEYE-Experimental_Data\n"
     ]
    }
   ],
   "source": [
    "%cd Desktop/Dissertation/GridEYE-Experimental_Data/"
   ]
  },
  {
   "cell_type": "code",
   "execution_count": 3,
   "metadata": {
    "collapsed": true
   },
   "outputs": [],
   "source": [
    "import matplotlib.pyplot as plt\n",
    "import matplotlib.image as mpimg\n",
    "import numpy as np\n",
    "import pandas as pd\n",
    "import matplotlib as mpl\n",
    "%matplotlib inline"
   ]
  },
  {
   "cell_type": "code",
   "execution_count": null,
   "metadata": {
    "collapsed": true
   },
   "outputs": [],
   "source": [
    "files = [\"grideye.20180226.131139_up_lr.csv\", \"grideye.20180226.131154_up_lr.csv\",\n",
    "         \"grideye.20180226.132937_up_close_lr.csv\", \"grideye.20180226.132953_up_close_lr.csv\", \n",
    "         \"grideye.20180226.131742_down_lr.csv\", \"grideye.20180226.131757_down_lr.csv\", \n",
    "          \"grideye.20180226.132237_left_lr.csv\", \"grideye.20180226.132253_left_lr.csv\", \n",
    "           \"grideye.20180226.132552_right_lr.csv\", \"grideye.20180226.132606_right_lr.csv\",\n",
    "        \"grideye.20180226.131146_up_rl.csv\", \"grideye.20180226.132945_up_close_rl.csv\",\n",
    "         \"grideye.20180226.131750_down_rl.csv\", \"grideye.20180226.132245_left_rl.csv\",\n",
    "         \"grideye.20180226.132559_right_rl.csv\"]"
   ]
  },
  {
   "cell_type": "code",
   "execution_count": 4,
   "metadata": {
    "collapsed": true
   },
   "outputs": [],
   "source": [
    "threshold = [5754, 5857, 6155, 6202, 6083, 6060, 6149, 6057, 6175, 6210, 5823, 6160, 6075, 6149, 6172]"
   ]
  },
  {
   "cell_type": "code",
   "execution_count": null,
   "metadata": {
    "collapsed": true
   },
   "outputs": [],
   "source": [
    "df = pd.read_csv(\"grideye.20180226.131146_up_rl.csv\", header=None)"
   ]
  },
  {
   "cell_type": "code",
   "execution_count": null,
   "metadata": {
    "collapsed": true
   },
   "outputs": [],
   "source": [
    "#to get celsius temperature\n",
    "df = df/4"
   ]
  },
  {
   "cell_type": "code",
   "execution_count": null,
   "metadata": {},
   "outputs": [],
   "source": [
    "print(\"Max:\",df.values.max())\n",
    "print(\"Min:\",df.values.min())\n",
    "print(\"Mean:\", df.values.mean())"
   ]
  },
  {
   "cell_type": "code",
   "execution_count": null,
   "metadata": {
    "collapsed": true
   },
   "outputs": [],
   "source": [
    "norm = mpl.colors.Normalize(vmin=98,vmax=109)"
   ]
  },
  {
   "cell_type": "code",
   "execution_count": null,
   "metadata": {},
   "outputs": [],
   "source": [
    "#saving images to folder - can be used to make video\n",
    "n=0\n",
    "image_no = 10\n",
    "s = (8,8)\n",
    "\n",
    "while True:\n",
    "    row = df.values[n,0:]\n",
    "    if sum(row) < threshold[10]:\n",
    "        image = np.zeros(s) # for opencv to create video\n",
    "        plt.imshow(image, cmap='hot', norm=norm)\n",
    "        plt.savefig('image-%s.png' % image_no)\n",
    "        n+=1\n",
    "        image_no+=1\n",
    "    else:    \n",
    "        image = row.reshape(8,8)\n",
    "        #image = image / 4\n",
    "        #image = np.rot90(image, 1)\n",
    "        plt.imshow(image, cmap='hot', norm=norm)\n",
    "        plt.savefig('image-%s.png' % image_no)\n",
    "        n+=1\n",
    "        image_no+=1\n",
    "    if n==50:\n",
    "        break"
   ]
  },
  {
   "cell_type": "code",
   "execution_count": null,
   "metadata": {
    "collapsed": true
   },
   "outputs": [],
   "source": [
    "#use terminal to make video of saved pictures - https://www.youtube.com/watch?v=WDV15nm-KJE\n",
    "ffmpeg -r 10 -f image2 -start_number 10 -i image-%02d.png -codec:v prores -profile:v 2 ../output.mov "
   ]
  },
  {
   "cell_type": "code",
   "execution_count": null,
   "metadata": {
    "collapsed": true
   },
   "outputs": [],
   "source": [
    "images_left = []\n",
    "images_right = []"
   ]
  },
  {
   "cell_type": "code",
   "execution_count": null,
   "metadata": {
    "collapsed": true
   },
   "outputs": [],
   "source": [
    "#keep as they are\n",
    "files_lr = [\"grideye.20180226.131139_up_lr.csv\", \"grideye.20180226.131154_up_lr.csv\",\n",
    "           \"grideye.20180226.132937_up_close_lr.csv\", \"grideye.20180226.132953_up_close_lr.csv\"]\n",
    "\n",
    "\n",
    "#image = np.rot90(image, 2)\n",
    "files_lr_180 = [\"grideye.20180226.131742_down_lr.csv\", \"grideye.20180226.131757_down_lr.csv\"]\n",
    "\n",
    "#image = np.rot90(image, -1)\n",
    "files_lr_90l = [\"grideye.20180226.132237_left_lr.csv\", \"grideye.20180226.132253_left_lr.csv\"]\n",
    "\n",
    "#image = np.rot90(image, 1)\n",
    "files_lr_90r = [\"grideye.20180226.132552_right_lr.csv\", \"grideye.20180226.132606_right_lr.csv\"]\n",
    "\n",
    "\n",
    "\n",
    "files_rl = [\"grideye.20180226.131146_up_rl.csv\", \"grideye.20180226.132945_up_close_rl.csv\"] \n",
    "#image = np.rot90(image, 2)\n",
    "files_rl_180 = [\"grideye.20180226.131750_down_rl.csv\"]\n",
    "#image = np.rot90(image, -1)\n",
    "files_rl_90l = [\"grideye.20180226.132245_left_rl.csv\"]\n",
    "#image = np.rot90(image, 1)\n",
    "files_rl_90r = [\"grideye.20180226.132559_right_rl.csv\"]    "
   ]
  },
  {
   "cell_type": "code",
   "execution_count": null,
   "metadata": {
    "collapsed": true
   },
   "outputs": [],
   "source": [
    "n = 0\n",
    "image_no = 0\n",
    "#image = np.rot90(image, 2) # left -1 #right 1\n",
    "\n",
    "df = pd.read_csv(\"grideye.20180226.132937_up_close_lr.csv\", header=None)\n",
    "\n",
    "while n<50:\n",
    "    row = df.values[n, 0:]\n",
    "    if sum(row) < threshold[14]:\n",
    "        n+=1\n",
    "    else:\n",
    "        image = row.reshape(8,8)\n",
    "        image = np.rot90(image, 1)\n",
    "        images_right.append(image)\n",
    "        n+=1\n",
    "        #image_no+=1"
   ]
  },
  {
   "cell_type": "code",
   "execution_count": null,
   "metadata": {
    "collapsed": true
   },
   "outputs": [],
   "source": [
    "images = []"
   ]
  },
  {
   "cell_type": "code",
   "execution_count": null,
   "metadata": {
    "collapsed": true
   },
   "outputs": [],
   "source": [
    "for i in images:\n",
    "    x = [sum(i[:,m]) for m in range(8)]\n",
    "    print(x.index(max(x)))\n",
    "\n",
    "images.clear()"
   ]
  },
  {
   "cell_type": "code",
   "execution_count": null,
   "metadata": {
    "collapsed": true
   },
   "outputs": [],
   "source": [
    "count_1 = 0\n",
    "count_2 = 1\n",
    "images_new = []\n",
    "\n",
    "while True:\n",
    "    matrix = images[count_2] - images[count_1]\n",
    "    count_1 += 1\n",
    "    count_2 += 1\n",
    "    images_new.append(matrix)\n",
    "    if count_2 == len(images):\n",
    "        break\n",
    "\n",
    "print(len(images_new))"
   ]
  },
  {
   "cell_type": "code",
   "execution_count": null,
   "metadata": {},
   "outputs": [],
   "source": [
    "norm = mpl.colors.Normalize(vmin=24,vmax=26.75)\n",
    "\n",
    "row = df.values[19,0:]\n",
    "image = row.reshape(8,8)\n",
    "plt.imshow(image, cmap='hot', norm=norm)\n",
    "cbar = plt.colorbar(orientation='horizontal')\n",
    "cbar.set_label('Temperate (°C)')\n",
    "plt.show()"
   ]
  },
  {
   "cell_type": "code",
   "execution_count": null,
   "metadata": {},
   "outputs": [],
   "source": [
    "fig, ax = plt.subplots(figsize=(8,8))\n",
    "im = ax.imshow(image, cmap='hot', norm=norm)\n",
    "\n",
    "cbar= fig.colorbar(im, orientation=\"horizontal\", pad=0.1)\n",
    "plt.axis('off')\n",
    "cbar.set_label('Temperature °C', size=16) \n",
    "cbar.ax.tick_params(labelsize=14) \n",
    "#plt.show()\n",
    "plt.savefig('TESST')"
   ]
  },
  {
   "cell_type": "code",
   "execution_count": null,
   "metadata": {
    "collapsed": true
   },
   "outputs": [],
   "source": [
    "len(images_left)"
   ]
  },
  {
   "cell_type": "code",
   "execution_count": null,
   "metadata": {
    "collapsed": true
   },
   "outputs": [],
   "source": [
    "len(images_right)"
   ]
  },
  {
   "cell_type": "code",
   "execution_count": null,
   "metadata": {
    "collapsed": true
   },
   "outputs": [],
   "source": [
    "images_left_flat = []\n",
    "images_right_flat = []"
   ]
  },
  {
   "cell_type": "code",
   "execution_count": null,
   "metadata": {
    "collapsed": true
   },
   "outputs": [],
   "source": [
    "for i in range(42):\n",
    "    image_flat = images_left[i].ravel()\n",
    "    images_left_flat.append(image_flat)"
   ]
  },
  {
   "cell_type": "code",
   "execution_count": null,
   "metadata": {
    "collapsed": true
   },
   "outputs": [],
   "source": [
    "for i in images_right:\n",
    "    image_flat = i.ravel()\n",
    "    images_right_flat.append(image_flat)"
   ]
  },
  {
   "cell_type": "code",
   "execution_count": null,
   "metadata": {
    "collapsed": true
   },
   "outputs": [],
   "source": [
    "len(images_left_flat)"
   ]
  },
  {
   "cell_type": "code",
   "execution_count": null,
   "metadata": {
    "collapsed": true
   },
   "outputs": [],
   "source": [
    "len(images_right_flat)"
   ]
  },
  {
   "cell_type": "code",
   "execution_count": null,
   "metadata": {
    "collapsed": true
   },
   "outputs": [],
   "source": [
    "df1 = pd.DataFrame(images_left_flat)\n",
    "df2 = pd.DataFrame(images_right_flat)"
   ]
  },
  {
   "cell_type": "code",
   "execution_count": null,
   "metadata": {
    "collapsed": true
   },
   "outputs": [],
   "source": [
    "df1['label'] = 1\n",
    "df2['label'] = 0"
   ]
  },
  {
   "cell_type": "code",
   "execution_count": null,
   "metadata": {
    "collapsed": true
   },
   "outputs": [],
   "source": [
    "data = df1.append(df2)"
   ]
  },
  {
   "cell_type": "code",
   "execution_count": null,
   "metadata": {
    "collapsed": true
   },
   "outputs": [],
   "source": [
    "variables = data.values[0:, :64]\n",
    "target = data.values[0:, 64:65].ravel()"
   ]
  },
  {
   "cell_type": "code",
   "execution_count": null,
   "metadata": {
    "collapsed": true
   },
   "outputs": [],
   "source": [
    "from sklearn.model_selection import train_test_split, GridSearchCV\n",
    "from sklearn.neighbors import KNeighborsClassifier\n",
    "from sklearn import svm, metrics\n",
    "\n",
    "X_train, X_test, y_train, y_test = train_test_split(variables, target, test_size=0.3, random_state=25)\n",
    "print('Training data and target sizes: \\n{}, {}'.format(len(X_train), len(y_train)))\n",
    "print('Test data and target sizes: \\n{}, {}'.format(len(X_test),len(y_test)))"
   ]
  },
  {
   "cell_type": "code",
   "execution_count": null,
   "metadata": {
    "collapsed": true
   },
   "outputs": [],
   "source": [
    "model = svm.SVC()\n",
    "parameters = {'kernel': ['rbf'], 'C': [0.0001, 0.001, 0.01, 0.1, 1, 10, 100, 1000, 10000, 100000], \n",
    "              'gamma': [0.0001, 0.001, 0.01, 0.1, 1, 10, 100, 1000, 10000, 100000]}"
   ]
  },
  {
   "cell_type": "code",
   "execution_count": null,
   "metadata": {
    "collapsed": true
   },
   "outputs": [],
   "source": [
    "classifier = GridSearchCV(estimator=model, param_grid=parameters, cv=5)"
   ]
  },
  {
   "cell_type": "code",
   "execution_count": null,
   "metadata": {
    "collapsed": true
   },
   "outputs": [],
   "source": [
    "classifier.fit(X_train,y_train)"
   ]
  },
  {
   "cell_type": "code",
   "execution_count": null,
   "metadata": {
    "collapsed": true
   },
   "outputs": [],
   "source": [
    "y_pred = classifier.predict(X_test)"
   ]
  },
  {
   "cell_type": "code",
   "execution_count": null,
   "metadata": {
    "collapsed": true
   },
   "outputs": [],
   "source": [
    "print(\"Classification report for classifier %s:\\n%s\\n\"\n",
    "      % (classifier, metrics.classification_report(y_test, y_pred)))"
   ]
  },
  {
   "cell_type": "code",
   "execution_count": null,
   "metadata": {
    "collapsed": true
   },
   "outputs": [],
   "source": [
    "print(\"Confusion matrix:\\n%s\" % metrics.confusion_matrix(y_test, y_pred))"
   ]
  },
  {
   "cell_type": "code",
   "execution_count": null,
   "metadata": {
    "collapsed": true
   },
   "outputs": [],
   "source": []
  }
 ],
 "metadata": {
  "kernelspec": {
   "display_name": "Python 3",
   "language": "python",
   "name": "python3"
  },
  "language_info": {
   "codemirror_mode": {
    "name": "ipython",
    "version": 3
   },
   "file_extension": ".py",
   "mimetype": "text/x-python",
   "name": "python",
   "nbconvert_exporter": "python",
   "pygments_lexer": "ipython3",
   "version": "3.6.2"
  }
 },
 "nbformat": 4,
 "nbformat_minor": 2
}
